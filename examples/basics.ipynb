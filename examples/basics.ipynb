{
 "cells": [
  {
   "cell_type": "markdown",
   "id": "66b5bc8f",
   "metadata": {},
   "source": [
    "# Basic Tree Operations"
   ]
  },
  {
   "cell_type": "code",
   "execution_count": 1,
   "id": "588c092b",
   "metadata": {},
   "outputs": [],
   "source": [
    "import copy\n",
    "import numpy as np\n",
    "import matplotlib.pyplot as plt\n",
    "import bhvstats as bhv"
   ]
  },
  {
   "cell_type": "markdown",
   "id": "a53cc180",
   "metadata": {},
   "source": [
    "## Phylogenetic trees "
   ]
  },
  {
   "cell_type": "markdown",
   "id": "da5958d6",
   "metadata": {},
   "source": [
    "We create a `PhyloTree`-object, representing a phylogenetic tree with 4 leaves featuring the splits $0,1 \\vert 2,3,4$ and $0,1,2 \\vert 3,4$, both having length 1.\n",
    "Since we fix the leafcount, "
   ]
  },
  {
   "cell_type": "code",
   "execution_count": 2,
   "id": "d22ffea0",
   "metadata": {},
   "outputs": [],
   "source": [
    "tree_1 = bhv.PhyloTree(4)\n",
    "tree_1.add_split([0,1], 1)\n",
    "tree_1.add_split([3,4], 1)"
   ]
  },
  {
   "cell_type": "markdown",
   "id": "0c7d25a7",
   "metadata": {},
   "source": [
    "The splits are represented by `PhyloSplit`-objects. Let us fetch the first split via the `get_splits` method and then print it."
   ]
  },
  {
   "cell_type": "code",
   "execution_count": 3,
   "id": "8b19bb71",
   "metadata": {},
   "outputs": [
    {
     "name": "stdout",
     "output_type": "stream",
     "text": [
      "Partition: [0, 1] | [2, 3, 4]\n"
     ]
    }
   ],
   "source": [
    "first_split = list(tree_1.get_splits())[0]\n",
    "\n",
    "print(\"Partition: \" + str(first_split))"
   ]
  },
  {
   "cell_type": "markdown",
   "id": "e9ffe73c",
   "metadata": {},
   "source": [
    "It is __not__ possible to add an _incompatible_ split to our phylogenetic tree."
   ]
  },
  {
   "cell_type": "code",
   "execution_count": 4,
   "id": "9a4c1962",
   "metadata": {},
   "outputs": [
    {
     "name": "stdout",
     "output_type": "stream",
     "text": [
      "The split was not added as it is not compatible with the existing ones.\n"
     ]
    }
   ],
   "source": [
    "tree_1.add_split([1,2], 1)"
   ]
  },
  {
   "cell_type": "markdown",
   "id": "dc396bbd",
   "metadata": {},
   "source": [
    "We can import phylogenetic trees in multiple ways. In particular, we can import \n",
    "a tree in the *Newick*-format. We should obtain the same tree as before."
   ]
  },
  {
   "cell_type": "code",
   "execution_count": 5,
   "id": "74b561f7",
   "metadata": {},
   "outputs": [
    {
     "name": "stdout",
     "output_type": "stream",
     "text": [
      "True\n"
     ]
    }
   ],
   "source": [
    "newick_str = '(A:0, (B:0, (C:0, D:0):1):1);'\n",
    "leaves = {'A': 1, 'B': 2, 'C': 3, 'D': 4}\n",
    "\n",
    "tree_new = bhv.new2phylo(newick_str, leaves)  \n",
    "print(tree_new == tree_1)"
   ]
  },
  {
   "cell_type": "markdown",
   "id": "099abe85",
   "metadata": {},
   "source": [
    "## Geodesics\n",
    "\n",
    "We can compute the geodesic distance between `tree_1` and another tree `tree_2`(see below). \n",
    "\n",
    "The distance should be equal to $\\sqrt{1 +2^2} \\approx 2.23606797749979$."
   ]
  },
  {
   "cell_type": "code",
   "execution_count": 6,
   "id": "b5580f22",
   "metadata": {},
   "outputs": [
    {
     "name": "stdout",
     "output_type": "stream",
     "text": [
      "The geodesic distance between the trees is:  2.23606797749979\n"
     ]
    }
   ],
   "source": [
    "tree_2 = bhv.PhyloTree(4)\n",
    "tree_2.add_split([0,1], 2)\n",
    "tree_2.add_split([0,1,4], 1)\n",
    "print(\"The geodesic distance between the trees is: \", bhv.distance(tree_1, tree_2))"
   ]
  },
  {
   "cell_type": "markdown",
   "id": "52faab46",
   "metadata": {},
   "source": [
    "Furthermore, we can evaluate the geodesic for every $t \\in [0,1]$, e.g. to obtain the midpoint for $t = 0.5$. We would expect a tree \n",
    "with the split $0,1 \\vert 2,3,4$ having length $1.5$."
   ]
  },
  {
   "cell_type": "code",
   "execution_count": 7,
   "id": "08023dc8",
   "metadata": {},
   "outputs": [
    {
     "name": "stdout",
     "output_type": "stream",
     "text": [
      "Number of splits:  1\n",
      "Split:  [0, 1] | [2, 3, 4]\n",
      "Length of split:  1.5\n"
     ]
    }
   ],
   "source": [
    "midpoint = bhv.eval_geod(tree_1, tree_2, 0.5)\n",
    "print(\"Number of splits: \", midpoint.get_splitcount())\n",
    "split = midpoint.get_splits()[0] \n",
    "print(\"Split: \", split)\n",
    "# the lengths are stored in midpoint.splits as a dictionary. The key is the split, the value is the length.\n",
    "print(\"Length of split: \", midpoint.splits[split])"
   ]
  }
 ],
 "metadata": {
  "kernelspec": {
   "display_name": "sticky",
   "language": "python",
   "name": "python3"
  },
  "language_info": {
   "codemirror_mode": {
    "name": "ipython",
    "version": 3
   },
   "file_extension": ".py",
   "mimetype": "text/x-python",
   "name": "python",
   "nbconvert_exporter": "python",
   "pygments_lexer": "ipython3",
   "version": "3.12.2"
  }
 },
 "nbformat": 4,
 "nbformat_minor": 5
}
